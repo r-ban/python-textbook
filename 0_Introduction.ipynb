{
 "cells": [
  {
   "cell_type": "code",
   "execution_count": 3,
   "metadata": {
    "collapsed": false,
    "slideshow": {
     "slide_type": "skip"
    }
   },
   "outputs": [
    {
     "data": {
      "text/html": [
       "<style>\n",
       "\n",
       "body {\n",
       " counter-reset: h2counter;\n",
       "}\n",
       "h1 {\n",
       " counter-reset: h2counter;\n",
       "}\n",
       "h2:before {\n",
       " content: counter(h2counter) \".\\0000a0\\0000a0\";\n",
       " counter-increment: h2counter;\n",
       " counter-reset: h3counter;\n",
       "}\n",
       "\n",
       "\n",
       "</style>\n"
      ],
      "text/plain": [
       "<IPython.core.display.HTML object>"
      ]
     },
     "execution_count": 3,
     "metadata": {},
     "output_type": "execute_result"
    }
   ],
   "source": [
    "from IPython.core.display import HTML\n",
    "def css_styling():\n",
    "    styles = open(\"./styles/custom.css\", \"r\").read()\n",
    "    return HTML(styles)\n",
    "css_styling()"
   ]
  },
  {
   "cell_type": "markdown",
   "metadata": {
    "slideshow": {
     "slide_type": "slide"
    }
   },
   "source": [
    "# Introduction to Programming\n",
    "\n"
   ]
  },
  {
   "cell_type": "markdown",
   "metadata": {
    "slideshow": {
     "slide_type": "slide"
    }
   },
   "source": [
    "### Who am I?\n",
    "\n",
    " - Name: __Hemma__ (名) __Philamore__ (姓)\n",
    " - From: __England__ \n",
    " - Lab: __Matsuno mechatronics lab__, Kyoto University, Katsura Campus\n",
    " - Research: __Bio-inspired, energy autonomous robots__\n",
    " - Contact: __philamore.hemma.5s@kyoto-u.ac.jp__ \n",
    " <img src=\"img/row_bot.jpg\" alt=\"Drawing\" style=\"width: 300px;\"/>\n",
    "\n"
   ]
  },
  {
   "cell_type": "markdown",
   "metadata": {
    "slideshow": {
     "slide_type": "slide"
    }
   },
   "source": [
    "Today is an introductory seminar.\n",
    "\n",
    "\n",
    "__Part 1:__ Course Overview\n",
    " - What topics the course will cover.\n",
    " - Activities we will be doing.\n",
    " - How you will be assessed.\n"
   ]
  },
  {
   "cell_type": "markdown",
   "metadata": {
    "slideshow": {
     "slide_type": "slide"
    }
   },
   "source": [
    "__Part 2:__ Practical Introduction\n",
    "\n",
    " - Hands-on Practise\n",
    " - How to install software at home (and on-campus)"
   ]
  },
  {
   "cell_type": "markdown",
   "metadata": {
    "slideshow": {
     "slide_type": "slide"
    }
   },
   "source": [
    "## Why study programming?\n",
    "- Increased use of computing in everyday life.\n",
    "- A tool you can use for the other subject you study. \n",
    "- A growing sector of the jobs market.\n",
    "- Coding in jobs, not traditionally related to computing.\n",
    "- It's fun!"
   ]
  },
  {
   "cell_type": "markdown",
   "metadata": {
    "slideshow": {
     "slide_type": "slide"
    }
   },
   "source": [
    "## Why study Python?\n",
    " - Free and open source\n",
    " - Easy to learn\n",
    " - \"High level\" \n",
    " - Community\n",
    " - Increasingly used in industry\n",
    " "
   ]
  },
  {
   "cell_type": "markdown",
   "metadata": {
    "slideshow": {
     "slide_type": "slide"
    }
   },
   "source": [
    "## Course Goal\n",
    "\n",
    "To develop:\n",
    "\n",
    "- A good standalone programming toolkit.\n",
    "- Skills to improve the quality of your work in other subjects. \n",
    "- A fundamental base from which to start developing further as a programmer. \n"
   ]
  },
  {
   "cell_type": "markdown",
   "metadata": {
    "slideshow": {
     "slide_type": "slide"
    }
   },
   "source": [
    "## Course Entry Level\n",
    "\n",
    " - Beginner, no prior programming knowlegde.\n",
    " - Fundamental engineering background knowledge (1st year undergraduate level)."
   ]
  },
  {
   "cell_type": "markdown",
   "metadata": {
    "slideshow": {
     "slide_type": "slide"
    }
   },
   "source": [
    "## Course Structure\n",
    "\n",
    "__Part 1: Fundamentals of programming:__ \n",
    "<br>An introduction to the core function and features of the Python language. \n",
    "<br>A focus on the use of Python for solving engineering-related problems. (~10 weeks)\n",
    "- Data types and basic operations e.g. arithmetic.\n",
    "- Control Flow\n",
    "- Data Structures\n",
    "- Functions (user-defined and built-in)\n",
    "- Arrays and numerical computation\n",
    "- Visually representing data\n",
    "- Inputs and outputs\n",
    "- Testing\n",
    "\n"
   ]
  },
  {
   "cell_type": "markdown",
   "metadata": {
    "slideshow": {
     "slide_type": "slide"
    }
   },
   "source": [
    "__Part 2: Applications of programming:__\n",
    "<br>Practicing and demonstrating the use of the skills you have learnt. \n",
    " - Writing your own programs to express and solve engineering problems. \n",
    " - Incorporating examples from your other subjects where possible. \n",
    " - Structured examples to combine and reinforce the skills you have learnt. \n",
    " - Coursework assessment.\n"
   ]
  },
  {
   "cell_type": "markdown",
   "metadata": {
    "slideshow": {
     "slide_type": "slide"
    }
   },
   "source": [
    "__Version Control and Testing:__ \n",
    "\n",
    " - Code management skills. \n",
    " - Essential techniques used by professional programmers. \n",
    " - Storing, documenting, and sharing your code with others.\n",
    " - Improve the quality of your work. "
   ]
  },
  {
   "cell_type": "markdown",
   "metadata": {
    "slideshow": {
     "slide_type": "slide"
    }
   },
   "source": [
    "## Lesson format\n",
    "In each class we will use a variety of learning methods:\n",
    "\n",
    "__Interactive Textbook:__ \n",
    "<br>In a moment you are going to download the interactive textbook. \n",
    "<br>First half of the course notes (the second will be added soon). \n",
    "<br>A chapter for each seminar. \n",
    "<br>Each chapter has several examples for you to complete in class. \n",
    "\n",
    "\n",
    "__Slides:__ \n",
    "<br>New material will be explained on slides.\n",
    "<br>Code will be demonstrated using slides.\n",
    "<br>We will complete examples together...\n",
    " \n",
    "\n",
    "\n",
    "\n"
   ]
  },
  {
   "cell_type": "markdown",
   "metadata": {
    "slideshow": {
     "slide_type": "slide"
    }
   },
   "source": [
    "__Whiteboards:__ \n",
    "<br>In-class feedback. \n",
    "<br>Sharing answers with the group. \n",
    "\n",
    "\n",
    "__Review Excercises:__ \n",
    "<br>At the end of each chapter there are excercises for you to complete independently. <br>Complete unfinished questions for homework. <br>For me to check your progress. <br>Answers will be used in subsequent classes.  "
   ]
  },
  {
   "cell_type": "markdown",
   "metadata": {
    "slideshow": {
     "slide_type": "slide"
    }
   },
   "source": [
    "I will release example solutions weekly. \n",
    "<br>Please use these to check your work. \n",
    "<br>Review exercises are not assessed but are good preparation for the exam. \n",
    "<br>I strongly advise you to complete them. "
   ]
  },
  {
   "cell_type": "markdown",
   "metadata": {
    "slideshow": {
     "slide_type": "slide"
    }
   },
   "source": [
    "## Assessment.  \n",
    "\n",
    "__50% Coursework__\n",
    " - You will choose a problem from one of your other courses.\n",
    " - You will express and solve the problem by writing a computer program. \n",
    " - There will be two lessons (after week 10) assigned to this task. \n",
    " - Remaining work must be completed independently for homework. \n",
    " - A sample problem will be available for you to complete if you cannot find a suitable problem to use from another module. \n"
   ]
  },
  {
   "cell_type": "markdown",
   "metadata": {
    "slideshow": {
     "slide_type": "slide"
    }
   },
   "source": [
    "\n",
    "*Purpose*: \n",
    " - To use Python programming to improve the quality of your work in the other subjects on your course. \n",
    " - If you choose your problem wisely you may even be able to submit as homework for __both__ this course and the course from which the problem was taken from. "
   ]
  },
  {
   "cell_type": "markdown",
   "metadata": {
    "slideshow": {
     "slide_type": "slide"
    }
   },
   "source": [
    "__50% Exam:__\n",
    "<br>Week 15\n",
    "<br>Open-book (interactive textbook). \n",
    "<br>Therefore I highly recommend you follow and complete all examples in class so you have as much information as possible when it comes to the exam. \n",
    "<br>If you miss a seminar try and catch up by completing the examples yourself. \n"
   ]
  },
  {
   "cell_type": "markdown",
   "metadata": {
    "slideshow": {
     "slide_type": "slide"
    }
   },
   "source": [
    "The tools we will use on this course may be completely new to you.\n",
    "\n",
    "We will use the remaining part of the seminar to set-up the software you will be using through a __practical introduction.__ \n"
   ]
  },
  {
   "cell_type": "markdown",
   "metadata": {
    "slideshow": {
     "slide_type": "slide"
    }
   },
   "source": [
    " - \t__Git__\n",
    "  - Creating an online repository for your work.\n",
    "  - Accessing interactive textbook online.  \n",
    "  - Saving your changes in an online repository.\n",
    "  \n",
    "  <br>\n",
    " - __Jupyter notebook__: Interactive Python coding.\n",
    " \n",
    "   <br>\n",
    " - __Home software installation__\n",
    "  - Anaconda (Python + Jupyter notebook)\n",
    "  - Git\n",
    "  \n",
    "  <br>\n",
    " - __On-Campus software installation__\n",
    "  - Git"
   ]
  },
  {
   "cell_type": "markdown",
   "metadata": {
    "slideshow": {
     "slide_type": "slide"
    }
   },
   "source": [
    "## Git\n",
    "__What is Git?__ \n",
    "\n",
    "Git is *version control* software."
   ]
  },
  {
   "cell_type": "markdown",
   "metadata": {
    "slideshow": {
     "slide_type": "slide"
    }
   },
   "source": [
    "__What is version control software?__ \n",
    "\n",
    "Software that manages changes to a project.\n",
    "\n",
    "It tracks changes without overwriting any part of the project. "
   ]
  },
  {
   "cell_type": "markdown",
   "metadata": {
    "slideshow": {
     "slide_type": "slide"
    }
   },
   "source": [
    "Typically, when you save a file, for example a word document, you either:\n",
    " - overwrite the previous version (save)\n",
    " - save the file under a new name (save as)"
   ]
  },
  {
   "cell_type": "markdown",
   "metadata": {
    "slideshow": {
     "slide_type": "slide"
    }
   },
   "source": [
    "This means we either:\n",
    "- Lose the previous version\n",
    "- End up with multiple files\n"
   ]
  },
  {
   "cell_type": "markdown",
   "metadata": {
    "slideshow": {
     "slide_type": "slide"
    }
   },
   "source": [
    "In programming we often want to:\n",
    " - make a small change to our program \n",
    " - test our change works before moving on. \n",
    " - easily revert to a previous version if we don't like the changes\n",
    "\n",
    "It makes sense save incremental versions of our. \n",
    "\n",
    "That way, if we break something we can just go back to the previous version. "
   ]
  },
  {
   "cell_type": "markdown",
   "metadata": {
    "slideshow": {
     "slide_type": "slide"
    }
   },
   "source": [
    "But this can lead to many files:\n",
    "\n",
    "<img src=\"img/many_files_same_name.png\" alt=\"Drawing\" style=\"width: 300px;\"/>\n",
    "\n",
    "How can we tell what each one does?"
   ]
  },
  {
   "cell_type": "markdown",
   "metadata": {
    "slideshow": {
     "slide_type": "slide"
    }
   },
   "source": [
    "We could try giving them meaningful names:\n",
    "\n",
    "<img src=\"img/many_files.gif\" alt=\"Drawing\" style=\"width: 300px;\"/>\n",
    "\n",
    "But the name can only tell us a little bit of information...\n"
   ]
  },
  {
   "cell_type": "markdown",
   "metadata": {
    "slideshow": {
     "slide_type": "slide"
    }
   },
   "source": [
    "...before they start getting really long!\n",
    "\n",
    "<img src=\"img/many_files_different_names.png\" alt=\"Drawing\" style=\"width: 300px;\"/>\n",
    "\n",
    "Things get very confusing!\n",
    "\n",
    "And many files take up lots of space on your computer. "
   ]
  },
  {
   "cell_type": "markdown",
   "metadata": {
    "slideshow": {
     "slide_type": "slide"
    }
   },
   "source": [
    "### How Git works\n",
    "Git creates a folder in the same directory as your file. \n",
    "\n",
    "The folder containing both the file being tracked and the Git folder is now referred to as a repository or \"repo\". \n",
    "\n",
    "(The Git folder is hidden.)\n",
    "\n",
    "You can keep any type of file in a repository (code files, text files, image files....). \n",
    "\n"
   ]
  },
  {
   "cell_type": "markdown",
   "metadata": {
    "slideshow": {
     "slide_type": "slide"
    }
   },
   "source": [
    "\n",
    "\n",
    "Git logs changes you make to the file.\n",
    "\n",
    "It can track multiple files within this directory.  \n",
    "\n",
    "It stores a *commit message* with each change you store (or *commit*), saying what you changed:\n",
    "\n",
    "<img src=\"img/git_commit_.png\" alt=\"Drawing\" style=\"width: 300px;\"/>"
   ]
  },
  {
   "cell_type": "markdown",
   "metadata": {
    "slideshow": {
     "slide_type": "slide"
    }
   },
   "source": [
    "So if you make a mistake, you can just reset to a previous version.\n",
    "\n",
    "<img src=\"img/git_reset.png\" alt=\"Drawing\" style=\"width: 300px;\"/>"
   ]
  },
  {
   "cell_type": "markdown",
   "metadata": {
    "slideshow": {
     "slide_type": "slide"
    }
   },
   "source": [
    "When you commit changes, Git does not save two versions of the same file. \n",
    "\n",
    "Git only saves the __difference__ between two files.\n",
    "\n",
    "This minimises the amount of space that tracking your changes takes up on your computer.\n",
    "\n",
    "__Example:__ Between files r3 and r4, the information saved is\n",
    " > -juice <br>\n",
    " > +soup\n",
    "\n",
    "<img src=\"img/git_diff.png\" alt=\"Drawing\" style=\"width: 500px;\"/>"
   ]
  },
  {
   "cell_type": "markdown",
   "metadata": {
    "slideshow": {
     "slide_type": "slide"
    }
   },
   "source": [
    "### Advantages and Disadvantages of Git\n",
    "\n",
    "A __great thing__ about Git is that it was made by programmers for programmers. \n",
    "\n",
    "It has an *enourmous* range of functionality.\n"
   ]
  },
  {
   "cell_type": "markdown",
   "metadata": {
    "slideshow": {
     "slide_type": "slide"
    }
   },
   "source": [
    "A __problem__ with so much freedom is that it can be easy to get things wrong.\n",
    "\n",
    "Git can be difficult to use.\n",
    "\n"
   ]
  },
  {
   "cell_type": "markdown",
   "metadata": {
    "slideshow": {
     "slide_type": "slide"
    }
   },
   "source": [
    "To keep things nice and easy we will learn only the basics of using Git. \n",
    "\n",
    "Even this basic understanding will give you essential skills that are used every day by professional programmers. "
   ]
  },
  {
   "cell_type": "markdown",
   "metadata": {
    "collapsed": true,
    "slideshow": {
     "slide_type": "slide"
    }
   },
   "source": [
    "A __problem__ with Git is that it was made by programmers for programmers. \n",
    "\n",
    "We have to use the command line (or Terminal) to access it. \n",
    "\n",
    "There is no user interface.\n",
    "\n",
    "It can be difficult to visualise what is going on. \n",
    "\n",
    "<img src=\"img/git_command_line.png\" alt=\"Drawing\" style=\"width: 500px;\"/>"
   ]
  },
  {
   "cell_type": "markdown",
   "metadata": {
    "slideshow": {
     "slide_type": "slide"
    }
   },
   "source": [
    "## GitHub\n",
    "To provide a visual interface we can use an online *host site* to store and view code...\n",
    "\n"
   ]
  },
  {
   "cell_type": "markdown",
   "metadata": {
    "slideshow": {
     "slide_type": "slide"
    }
   },
   "source": [
    "GitHub.com is a \"code hosting site\".\n",
    "\n",
    "It provides a visual interface to:\n",
    "- view code\n",
    "- view changes to code(*commits*) \n",
    "- share and collaborate with others. \n",
    "\n",
    "There are many code hosting sites, however Github has a large community of users.  \n",
    "\n",
    "So for programmers, it works like a social media site like Facebook or instagram.\n",
    "\n",
    "<img src=\"img/github-logo.jpg\" alt=\"Drawing\" style=\"width: 200px;\"/>\n",
    "\n"
   ]
  },
  {
   "cell_type": "markdown",
   "metadata": {
    "slideshow": {
     "slide_type": "slide"
    }
   },
   "source": [
    "A repo can be a local folder on your computer. \n",
    "\n",
    "A repo can also be a storage space on GitHub or another online host site. \n",
    "\n",
    "<img src=\"img/github-logo.jpg\" alt=\"Drawing\" style=\"width: 200px;\"/>\n"
   ]
  },
  {
   "cell_type": "markdown",
   "metadata": {
    "collapsed": true,
    "slideshow": {
     "slide_type": "slide"
    }
   },
   "source": [
    "Please log on to the computer. \n",
    "\n",
    "\n",
    "\n"
   ]
  },
  {
   "cell_type": "markdown",
   "metadata": {
    "slideshow": {
     "slide_type": "slide"
    }
   },
   "source": [
    "Let's start by downloading your interactive textbook from github.com\n",
    "\n",
    "Open a web browser and go to:\n",
    "\n",
    "https://github.com/hphilamore/ILAS_python\n",
    "\n",
    "[You can find it by Googling \"github hphilamore\" and selecting ILAS_python]\n",
    "\n",
    "This is a __repository__.\n",
    "\n",
    "It is an online directory where this project, the textbook, is stored. "
   ]
  },
  {
   "cell_type": "markdown",
   "metadata": {
    "slideshow": {
     "slide_type": "slide"
    }
   },
   "source": [
    "We can look at previous versions of the code by selecting *commits*...\n",
    "\n",
    "We can easily view the difference (\"diff\") between the previous and current version."
   ]
  },
  {
   "cell_type": "markdown",
   "metadata": {
    "slideshow": {
     "slide_type": "slide"
    }
   },
   "source": [
    " You are going to download a personal copy of the textbook to you user area. "
   ]
  },
  {
   "cell_type": "markdown",
   "metadata": {
    "slideshow": {
     "slide_type": "slide"
    }
   },
   "source": [
    "### Introduction to the Command Line. \n",
    "\n",
    "We are going to download the textbook using the command line.\n",
    "\n",
    "To open the terminal:\n",
    " - press \"win key\" + \"R\"\n",
    " - type: __cmd__\n",
    " - press enter"
   ]
  },
  {
   "cell_type": "markdown",
   "metadata": {
    "slideshow": {
     "slide_type": "slide"
    }
   },
   "source": [
    "A terminal will launch.\n",
    "\n",
    "<img src=\"img/KUterminal.png\" alt=\"Drawing\" style=\"width: 700px;\"/>"
   ]
  },
  {
   "cell_type": "markdown",
   "metadata": {
    "slideshow": {
     "slide_type": "slide"
    }
   },
   "source": [
    "The *command prompt* will say something like:\n",
    "\n",
    "C:¥Users¥Username:\n",
    "\n",
    "The C tells us that we are on the C drive of the computer.\n",
    "\n",
    "Lets switch to the M drive where the user (you!) can save files."
   ]
  },
  {
   "cell_type": "markdown",
   "metadata": {
    "slideshow": {
     "slide_type": "slide"
    }
   },
   "source": [
    "In the terminal type: \n",
    "\n",
    ">`M:`\n",
    "\n",
    "...and press enter.\n"
   ]
  },
  {
   "cell_type": "markdown",
   "metadata": {
    "slideshow": {
     "slide_type": "slide"
    }
   },
   "source": [
    "You should see the command prompt change.  \n",
    "\n",
    "\n",
    "<img src=\"img/KUterminalMdrive.png\" alt=\"Drawing\" style=\"width: 700px;\"/>"
   ]
  },
  {
   "cell_type": "markdown",
   "metadata": {
    "slideshow": {
     "slide_type": "slide"
    }
   },
   "source": [
    "To see what is on the M drive type:\n",
    "\n",
    ">`dir`\n",
    "\n",
    "..and press enter.\n",
    "\n",
    "You will see all the folders in your personal user area.\n",
    "\n",
    "Double click on the computer icon on the desktop. \n",
    "\n",
    "Double click on Home Directory (M:).\n",
    "\n",
    "You should see the same folders as those listed in the terminal.\n"
   ]
  },
  {
   "cell_type": "markdown",
   "metadata": {
    "collapsed": true,
    "slideshow": {
     "slide_type": "slide"
    }
   },
   "source": [
    "To navigate to documents type:\n",
    "\n",
    ">`cd Documents`\n",
    "\n",
    "cd stands for \"change directory\".\n",
    "\n",
    "\n"
   ]
  },
  {
   "cell_type": "markdown",
   "metadata": {
    "slideshow": {
     "slide_type": "slide"
    }
   },
   "source": [
    "Type:\n",
    "    \n",
    ">`dir` \n",
    "\n",
    "again to view the contents of your Documents folder."
   ]
  },
  {
   "cell_type": "markdown",
   "metadata": {
    "slideshow": {
     "slide_type": "slide"
    }
   },
   "source": [
    "We can move down the filesystem of the computer by typing:\n",
    "\n",
    ">`cd`\n",
    "\n",
    "followed by the name of the folder we want to move to.\n",
    "\n",
    "The folder must be:\n",
    " - on the same branch\n",
    " - one step from our current location\n",
    "\n",
    "<img src=\"img/directory_tree.gif\" alt=\"Drawing\" style=\"width: 200px;\"/>"
   ]
  },
  {
   "cell_type": "markdown",
   "metadata": {
    "slideshow": {
     "slide_type": "slide"
    }
   },
   "source": [
    "To move back up by one step, type:\n",
    "    \n",
    ">`cd ..`\n",
    "\n",
    "Try this now.\n",
    "\n",
    "<img src=\"img/directory_tree.gif\" alt=\"Drawing\" style=\"width: 200px;\"/>"
   ]
  },
  {
   "cell_type": "markdown",
   "metadata": {
    "slideshow": {
     "slide_type": "slide"
    }
   },
   "source": [
    "We can move by more than one step by seperating the names of the folders using the symbol: \n",
    "\n",
    "¥\n",
    "\n",
    "(note, this is \\ or / on US and European computers, depending on the operating system)\n",
    "\n",
    "<img src=\"img/directory_tree.gif\" alt=\"Drawing\" style=\"width: 200px;\"/>"
   ]
  },
  {
   "cell_type": "markdown",
   "metadata": {
    "slideshow": {
     "slide_type": "slide"
    }
   },
   "source": [
    "For example, now try navigating to any folder in your Documents folder by typing:\n",
    ">`cd Documents¥folder_name`\n",
    "\n",
    "where `folder_name` is the name of the folder to move to.\n"
   ]
  },
  {
   "cell_type": "markdown",
   "metadata": {
    "slideshow": {
     "slide_type": "slide"
    }
   },
   "source": [
    "And now let's go back to the main Documents folder by typing:\n",
    "> cd .."
   ]
  },
  {
   "cell_type": "markdown",
   "metadata": {
    "slideshow": {
     "slide_type": "slide"
    }
   },
   "source": [
    "## \"Cloning\" the Textbook Using Git\n",
    "\n",
    "Go to the Github site we opened earlier.  \n",
    "\n",
    "We are going to download a copy of the textbook from an online *repository*.\n",
    "\n",
    "This is referred to as *cloning*.\n",
    "\n",
    "This will allow you to work on the textbook and save it locally on a computer.\n",
    "\n",
    "\n",
    "\n"
   ]
  },
  {
   "cell_type": "markdown",
   "metadata": {
    "slideshow": {
     "slide_type": "slide"
    }
   },
   "source": [
    "Click the button \"Clone or download\" and copy the link by presssing Ctrl , C\n",
    "\n",
    "<img src=\"img/clone-url.png\" alt=\"Drawing\" style=\"width: 500px;\"/>\n"
   ]
  },
  {
   "cell_type": "markdown",
   "metadata": {
    "slideshow": {
     "slide_type": "slide"
    }
   },
   "source": [
    "In the terminal type `git clone`. \n",
    "\n",
    "After the word `clone` leave a space and then paste the URL that you just copied.:\n",
    "\n",
    "> `git clone` [PASTE COPIED URL HERE]\n",
    "\n",
    "\n",
    "\n",
    "`Clone` copies all the files from the repository at the URL you have entered. "
   ]
  },
  {
   "cell_type": "markdown",
   "metadata": {
    "slideshow": {
     "slide_type": "slide"
    }
   },
   "source": [
    "In the terminal type:\n",
    "\n",
    "> `dir`\n",
    "\n",
    "A folder called \"ILAS_python\" should have appeared. \n",
    "\n",
    "Go into the folder and view the content by typing:\n",
    "\n",
    ">`cd ILAS_pyhon`\n",
    "><br>`dir` \n",
    "\n"
   ]
  },
  {
   "cell_type": "markdown",
   "metadata": {
    "slideshow": {
     "slide_type": "slide"
    }
   },
   "source": [
    "Hint: \n",
    "\n",
    "If you start typing  a folder or file name and press \"tab\", the name autocompletes! \n",
    "\n",
    "Try it for yourself e.g. in the Documents directory type:\n",
    "\n",
    ">`cd ILAS`\n",
    "\n",
    "then press \"tab\"."
   ]
  },
  {
   "cell_type": "markdown",
   "metadata": {
    "slideshow": {
     "slide_type": "slide"
    }
   },
   "source": [
    "## Creating an Online Github Account\n",
    "\n",
    "The __online Github repository__ that you cloned the textbook from belongs to me. \n",
    "\n",
    "You are going to create your own online Github user account.\n",
    "\n",
    "\n"
   ]
  },
  {
   "cell_type": "markdown",
   "metadata": {
    "slideshow": {
     "slide_type": "slide"
    }
   },
   "source": [
    "You will use Github to update the online version of your textbook with the changes you make to the version stored locally on the university M drive.\n",
    "\n",
    "\n"
   ]
  },
  {
   "cell_type": "markdown",
   "metadata": {
    "slideshow": {
     "slide_type": "slide"
    }
   },
   "source": [
    "This means you can easily access it from outside the Kyoto University system, for example, to complete your homework. \n"
   ]
  },
  {
   "cell_type": "markdown",
   "metadata": {
    "slideshow": {
     "slide_type": "slide"
    }
   },
   "source": [
    "I will use your online repositories to view your work and check your progress during the course."
   ]
  },
  {
   "cell_type": "markdown",
   "metadata": {
    "slideshow": {
     "slide_type": "slide"
    }
   },
   "source": [
    "Open https://github.com\n",
    "\n",
    "Click \"Sign up\" at the top right hand corner. \n",
    "\n",
    "<img src=\"img/github_signup.png\" alt=\"Drawing\" style=\"width: 500px;\"/>\n"
   ]
  },
  {
   "cell_type": "markdown",
   "metadata": {
    "slideshow": {
     "slide_type": "slide"
    }
   },
   "source": [
    "Follow the steps to create an account, the same way as you would for a social media site. \n",
    "\n",
    "Choose a user name, email address, password.\n",
    "\n",
    "<img src=\"img/github-signup.png\" alt=\"Drawing\" style=\"width: 300px;\"/>\n",
    "\n",
    "Use the confirmation email to complete your registration."
   ]
  },
  {
   "cell_type": "markdown",
   "metadata": {
    "slideshow": {
     "slide_type": "slide"
    }
   },
   "source": [
    "## Creating an Online GitHub Repository\n",
    "\n",
    "Now we are going to set up your first online repository. \n",
    "\n",
    "Click the + sign in the top right corner.\n",
    "\n",
    "Choose \"New repository\". \n",
    "\n",
    "<img src=\"img/github_newrepo.png\" alt=\"Drawing\" style=\"width: 500px;\"/>"
   ]
  },
  {
   "cell_type": "markdown",
   "metadata": {
    "slideshow": {
     "slide_type": "slide"
    }
   },
   "source": [
    "Choose a repository name (e.g. Python Textbook, python_textbook, Intro_to_python)\n",
    "\n",
    "<img src=\"img/github_namerepo.jpg\" alt=\"Drawing\" style=\"width: 300px;\"/>"
   ]
  },
  {
   "cell_type": "markdown",
   "metadata": {
    "slideshow": {
     "slide_type": "slide"
    }
   },
   "source": [
    "Leave the other settings as they are for now.\n",
    "\n",
    "We will learn about these later in the course. \n",
    "\n",
    "Click the button \"Create repository\".\n",
    "\n",
    "<img src=\"img/github_create_repo.jpg\" alt=\"Drawing\" style=\"width: 300px;\"/>"
   ]
  },
  {
   "cell_type": "markdown",
   "metadata": {
    "slideshow": {
     "slide_type": "slide"
    }
   },
   "source": [
    "## Adding Files to an Online Github Repository\n",
    "\n",
    "Your online repository is currently empty.\n",
    "\n",
    "\n",
    "We are now going to link your local repository (stored on the computer on the M drive) to your online repository (stored at github.com). \n",
    "\n",
    "\n"
   ]
  },
  {
   "cell_type": "markdown",
   "metadata": {
    "slideshow": {
     "slide_type": "slide"
    }
   },
   "source": [
    "In the terminal, make sure you are __inside__ the folder named ILAS_python.\n",
    "\n",
    "If you are not, then navigate to the folder using \n",
    "\n",
    ">`cd`\n"
   ]
  },
  {
   "cell_type": "markdown",
   "metadata": {
    "slideshow": {
     "slide_type": "slide"
    }
   },
   "source": [
    "Enter the username that you registered when setting up your account on GitHub:\n",
    "\n",
    ">`git config --global user.name \"username\"`\n",
    "\n",
    "Enter the email adress that you registered when setting up your account on GitHub:\n",
    "\n",
    ">`git config --global user.email \"your_email@youremail.com\"`"
   ]
  },
  {
   "cell_type": "markdown",
   "metadata": {
    "slideshow": {
     "slide_type": "slide"
    }
   },
   "source": [
    "Copy the URL of your repo from the \"Quick setup\" section of the GitHub page that should have appeared. \n",
    "\n",
    "<img src=\"img/github_copyurl.png\" alt=\"Drawing\" style=\"width: 300px;\"/>\n",
    "\n"
   ]
  },
  {
   "cell_type": "markdown",
   "metadata": {
    "slideshow": {
     "slide_type": "slide"
    }
   },
   "source": [
    "__NOTE__ \n",
    "<br>Earlier we copied the URL of __my repository__ (https://github.com/hphilamore/ILAS_python.git).\n",
    "<br>We used it to tell the computer where to copy files __from__.\n",
    "\n",
    "<br>Now we are copying the URL of __your repository__(https://github.com/yourGithub/yourRepo.git).\n",
    "<br>We will now use a similar procedure to tell the computer where it should copy files __to__."
   ]
  },
  {
   "cell_type": "markdown",
   "metadata": {
    "collapsed": true,
    "slideshow": {
     "slide_type": "slide"
    }
   },
   "source": [
    "First we will disconnect your local repo from __my__ online repo.\n",
    "<br>The command\n",
    ">`git remote rm`\n",
    "\n",
    "<br>removes (`rm`) a remote (`remote`) URL from your local repository. \n",
    "<br>Type:\n",
    ">`git remote rm origin`\n",
    "\n",
    "(*origin* is a name that was given by default to the URL you cloned the repository from). \n",
    "\n"
   ]
  },
  {
   "cell_type": "markdown",
   "metadata": {
    "slideshow": {
     "slide_type": "slide"
    }
   },
   "source": [
    "Second we will connect your local repo to __your__ online repo.\n",
    "<br>The command\n",
    ">`git remote add` \n",
    "\n",
    "connects (`add`) a remote (`remote`) URL to your local repository using:\n",
    "- a name for you remote (let's use origin, again) \n",
    "- a URL (the URL just copied)\n",
    "\n",
    "Type:\n",
    ">`git remote add origin` [PASTE COPIED URL HERE] "
   ]
  },
  {
   "cell_type": "markdown",
   "metadata": {
    "slideshow": {
     "slide_type": "slide"
    }
   },
   "source": [
    "The command:\n",
    ">`git push -u` \n",
    "\n",
    "<br>uploads (pushes) the contents of your local repository to a remote repository:\n",
    "- a remote name (ours is \"origin\") \n",
    "- a *branch* of your repository (this is a more advanced feature of github. We will use the default branch ony. It is called \"master\")\n",
    "\n",
    "Type:\n",
    ">`git push -u origin master`"
   ]
  },
  {
   "cell_type": "markdown",
   "metadata": {
    "slideshow": {
     "slide_type": "slide"
    }
   },
   "source": [
    "A new window should open.\n",
    "\n",
    "Enter your github login details:\n",
    "\n",
    "<img src=\"img/GitHubLogin.png\" alt=\"Drawing\" style=\"width: 200px;\"/>\n",
    "\n"
   ]
  },
  {
   "cell_type": "markdown",
   "metadata": {
    "slideshow": {
     "slide_type": "slide"
    }
   },
   "source": [
    "Return to the teminal. You may be prompted to enter your login details a second time:\n",
    "\n",
    "<img src=\"img/GitHubTermLogin.png\" alt=\"Drawing\" style=\"width: 500px;\"/>\n",
    "\n",
    "You should see a few lines of code appear, ending with the message:\n",
    "\n",
    ">`Branch master set up to track remote branch master from origin`\n"
   ]
  },
  {
   "cell_type": "markdown",
   "metadata": {
    "slideshow": {
     "slide_type": "slide"
    }
   },
   "source": [
    "Now look again at your online GitHub page.\n",
    "\n",
    "Click on the \"code\" tab to reload the page.\n",
    "\n",
    "<img src=\"img/github_code.png\" alt=\"Drawing\" style=\"width: 300px;\"/>\n",
    "\n",
    "The textbook should now have appeared in your online repository. \n",
    "\n",
    "https://github.com/hphilamore/ILAS_python"
   ]
  },
  {
   "cell_type": "markdown",
   "metadata": {
    "slideshow": {
     "slide_type": "slide"
    }
   },
   "source": [
    "## Jupyter Notebook\n",
    "\n",
    "There are different ways of writing and running Python code.\n",
    "\n",
    "For the first part of this course we will be writing code in the Python interactive execution environment, __Jupyter notebook__. \n",
    "\n"
   ]
  },
  {
   "cell_type": "markdown",
   "metadata": {
    "slideshow": {
     "slide_type": "slide"
    }
   },
   "source": [
    "A Jupyter notebook lets you write and execute Python code in a web browser. \n",
    "\n",
    "You can write and execute code in sections.\n",
    "\n",
    "This allows you to immediately view the output of each section.   \n",
    "\n",
    "For this reason Jupyter notebooks are widely used in scientific computing.\n"
   ]
  },
  {
   "cell_type": "markdown",
   "metadata": {
    "slideshow": {
     "slide_type": "slide"
    }
   },
   "source": [
    "To launch Jupyter notebook go to:\n",
    "    \n",
    "Start >> Programs >> Programming >> Anaconda3 >> JupyterNotebook\n",
    "<br>(Start >> すべてのプログラム >> Programming >> Anaconda3 >> JupyterNotebook)\n",
    "\n",
    "and double click the Jupyter notebook icon to launch the application. "
   ]
  },
  {
   "cell_type": "markdown",
   "metadata": {
    "slideshow": {
     "slide_type": "slide"
    }
   },
   "source": [
    "You should see the content of your documents folder appear in the window that opens.\n",
    "\n",
    "Open the folder ILAS_python which contains the interactive textbook.  \n",
    "\n"
   ]
  },
  {
   "cell_type": "markdown",
   "metadata": {
    "slideshow": {
     "slide_type": "slide"
    }
   },
   "source": [
    "The textbook is written as a Jupyter notebook; each chapter (or seminar) is a seperate .ipynb file.\n",
    "\n",
    "This format allows you to:\n",
    " - add to the textbook\n",
    " - run your code and view the outcome within the file\n",
    " \n",
    " <img src=\"img/jupyter-file-browser.png\" alt=\"Drawing\" style=\"width: 500px;\"/>"
   ]
  },
  {
   "cell_type": "markdown",
   "metadata": {
    "slideshow": {
     "slide_type": "slide"
    }
   },
   "source": [
    "Click on the file 0_Introduction.ipynb to open it.\n",
    "\n",
    "If the following error message appears, choose `Python [python3]` from the drop-down menu and click OK. \n",
    " \n",
    " <img src=\"img/kernel_not_found.png\" alt=\"Drawing\" style=\"width: 450px;\"/>\n",
    "\n"
   ]
  },
  {
   "cell_type": "markdown",
   "metadata": {
    "slideshow": {
     "slide_type": "slide"
    }
   },
   "source": [
    "You will see the contents of the slides that you have been following today. \n",
    "\n",
    "Scroll down to find __THIS POINT__ in the notebook. \n",
    "\n",
    " <img src=\"img/youarehere.png\" alt=\"Drawing\" style=\"width: 300px;\"/>\n"
   ]
  },
  {
   "cell_type": "markdown",
   "metadata": {
    "slideshow": {
     "slide_type": "slide"
    }
   },
   "source": [
    "A Jupyter notebook is made up of a number of cells. \n",
    "\n",
    "Each cell can contain Python code.\n",
    "\n",
    "Let's learn how to:\n",
    " - create a new notebook\n",
    " - write code\n",
    " - run code"
   ]
  },
  {
   "cell_type": "markdown",
   "metadata": {
    "slideshow": {
     "slide_type": "slide"
    }
   },
   "source": [
    "At the top of the screen click:\n",
    "\n",
    "File >> New Notebook >> Python 3"
   ]
  },
  {
   "cell_type": "markdown",
   "metadata": {
    "slideshow": {
     "slide_type": "slide"
    }
   },
   "source": [
    " \n",
    "\n",
    "To execute a cell:\n",
    "- Click on it (a green box will appear around it once selected)\n",
    "- Press \"shift\" + \"enter\"\n",
    "\n",
    "When executed: \n",
    "- the code in the cell will run\n",
    "- the output of the cell will be displayed beneath the cell. "
   ]
  },
  {
   "cell_type": "markdown",
   "metadata": {
    "slideshow": {
     "slide_type": "slide"
    }
   },
   "source": [
    "### Your First Python Code\n",
    "\n",
    "Python can be used like a calculator to do basic arithmetic.\n",
    "\n",
    "In the empty cell in the new notebook in the next tab of your web browser (Untitled) enter:\n",
    "<br> 1 + 2\n",
    "\n",
    "Press \"shift\" + \"enter\"\n",
    "\n",
    "Your notebook should look something like this:\n",
    "\n",
    "<img src=\"img/jupyter_cell_one.png\" alt=\"Drawing\" style=\"width: 500px;\"/>"
   ]
  },
  {
   "cell_type": "markdown",
   "metadata": {
    "collapsed": true,
    "slideshow": {
     "slide_type": "slide"
    }
   },
   "source": [
    "In Python we can create variables that store values."
   ]
  },
  {
   "cell_type": "markdown",
   "metadata": {
    "slideshow": {
     "slide_type": "slide"
    }
   },
   "source": [
    "In the next cell create the value `x` which has the value `2 + 3`:\n",
    "\n",
    "```python\n",
    "x = 2 + 3\n",
    "```\n",
    "To display the value of x we need to \"print\" it.\n",
    "\n",
    "Type:\n",
    "```python\n",
    "print(x)\n",
    "```\n",
    "\n",
    "Press \"shift\" + \"enter\" to run the cell.\n",
    "\n",
    "Your notebook should look something like this:\n",
    "\n",
    "<img src=\"img/jupyter_celltwo.png\" alt=\"Drawing\" style=\"width: 500px;\"/>"
   ]
  },
  {
   "cell_type": "markdown",
   "metadata": {},
   "source": [
    "Variables are shared between cells. "
   ]
  },
  {
   "cell_type": "markdown",
   "metadata": {
    "slideshow": {
     "slide_type": "slide"
    }
   },
   "source": [
    "Therefore, executing:\n",
    "\n",
    "```python\n",
    "y = x - 2\n",
    "print(y)\n",
    "```\n",
    "in the next cell\n",
    "\n",
    "should give the following result in your notebook:\n",
    "\n",
    "<img src=\"img/jupyter_cell_three.png\" alt=\"Drawing\" style=\"width: 500px;\"/>\n",
    "\n"
   ]
  },
  {
   "cell_type": "markdown",
   "metadata": {
    "collapsed": true,
    "slideshow": {
     "slide_type": "slide"
    }
   },
   "source": [
    "Cells are executed in the order that the user runs them. \n",
    "\n",
    "By convention, Jupyter notebooks are __expected__ to be run from top to bottom. \n",
    "\n",
    "If you skip a cell or run the cells in a different order you may get unexpected behaviour."
   ]
  },
  {
   "cell_type": "markdown",
   "metadata": {
    "slideshow": {
     "slide_type": "slide"
    }
   },
   "source": [
    "For example, in the next cell enter:\n",
    "```python\n",
    "x = 10\n",
    "```\n",
    "\n",
    "then re-run the cell above containing:\n",
    "```python\n",
    "y = x - 2\n",
    "print(y)\n",
    "\n",
    "```\n",
    "and you should see the value of y change. \n",
    "\n",
    "The original value of `x` has been replaced by the new definition `x = 10`.\n",
    "\n",
    "<img src=\"img/jupyter_change_value.png\" alt=\"Drawing\" style=\"width: 500px;\"/>"
   ]
  },
  {
   "cell_type": "markdown",
   "metadata": {
    "slideshow": {
     "slide_type": "slide"
    }
   },
   "source": [
    "Now run the cell containing: \n",
    "    \n",
    "```python\n",
    "x = 2 + 3\n",
    "```\n",
    "then the cell containing:\n",
    "```python\n",
    "y = x - 2\n",
    "print(y)\n",
    "\n",
    "```\n",
    "and you will see the value of `y` change back to it's original value. \n",
    "\n",
    "<img src=\"img/jupyter_value_change2.png\" alt=\"Drawing\" style=\"width: 500px;\"/>\n",
    "\n"
   ]
  },
  {
   "cell_type": "markdown",
   "metadata": {
    "slideshow": {
     "slide_type": "slide"
    }
   },
   "source": [
    "To run all the cells sequentially from top to bottom click:\n",
    "\n",
    "Cell >> Run All\n",
    "\n",
    "This menu also contains other options for running cells. "
   ]
  },
  {
   "cell_type": "markdown",
   "metadata": {
    "slideshow": {
     "slide_type": "slide"
    }
   },
   "source": [
    "Close the file Untitled.ipynb\n",
    "\n",
    "Delete the file Untitled.ipynb by selecting the check box next to the file name...\n",
    "\n",
    "\n",
    "<img src=\"img/select_jupyter_untitled.png\" alt=\"Drawing\" style=\"width: 200px;\"/>\n",
    "\n",
    "...and clicking the red bin icon: \n",
    "\n",
    "<img src=\"img/delete_jupyter_untitled.png\" alt=\"Drawing\" style=\"width: 200px;\"/>"
   ]
  },
  {
   "cell_type": "markdown",
   "metadata": {
    "slideshow": {
     "slide_type": "slide"
    }
   },
   "source": [
    "## Adding to the Python Textbook\n",
    "Throughout this course you will develop new skills by completing excercises in the interactive textbook.\n",
    "\n"
   ]
  },
  {
   "cell_type": "markdown",
   "metadata": {
    "slideshow": {
     "slide_type": "slide"
    }
   },
   "source": [
    "At the end of the course you will have all of your notes and practise excercises in one place, accessible from almost anywhere."
   ]
  },
  {
   "cell_type": "markdown",
   "metadata": {
    "slideshow": {
     "slide_type": "slide"
    }
   },
   "source": [
    "Let's practise making a change to this chapter of the texbook and saving the change to your Git repository."
   ]
  },
  {
   "cell_type": "markdown",
   "metadata": {
    "slideshow": {
     "slide_type": "slide"
    }
   },
   "source": [
    "Copy and paste the following code to the cell below and press \"shift\" + \"enter\" to run the cell.\n",
    "```PYTHON\n",
    "print(2 + 1)\n",
    "\n",
    "print(5 - 2)\n",
    "\n",
    "print(1 + 1)\n",
    "\n",
    "print(2 - 1)\n",
    "\n",
    "print(1 + 5)\n",
    "```\n",
    "\n",
    "<img src=\"img/change.jpg\" alt=\"Drawing\" style=\"width: 300px;\"/>"
   ]
  },
  {
   "cell_type": "code",
   "execution_count": 4,
   "metadata": {
    "collapsed": true,
    "slideshow": {
     "slide_type": "slide"
    }
   },
   "outputs": [],
   "source": [
    "print(2 + 1)\n",
    "\n",
    "print(5 - 2)\n",
    "\n",
    "print(1 + 1)\n",
    "\n",
    "print(2 - 1)\n",
    "\n",
    "print(1 + 5)"
   ]
  },
  {
   "cell_type": "markdown",
   "metadata": {
    "slideshow": {
     "slide_type": "slide"
    }
   },
   "source": [
    "Save your changes by clicking the button in the top left of this window.\n",
    "\n",
    "<img src=\"img/Jupytersave.png\" alt=\"Drawing\" style=\"width: 300px;\"/>"
   ]
  },
  {
   "cell_type": "markdown",
   "metadata": {
    "slideshow": {
     "slide_type": "slide"
    }
   },
   "source": [
    "## Tracking changes using Git\n",
    "\n",
    "We are now going to:\n",
    " - use Git to record the changes you make to the textbook.\n",
    " - upload it to your online GitHub repository so that you can access it online. "
   ]
  },
  {
   "cell_type": "markdown",
   "metadata": {
    "slideshow": {
     "slide_type": "slide"
    }
   },
   "source": [
    "Git has a two-step process for saving changes.\n",
    "\n",
    "1. Select files for which to log changes (__\"add\"__)\n",
    "1. Log changes (__\"commit\"__)\n",
    "\n",
    "This is an advanced feature.\n",
    "\n",
    "For now, we will choose to track (__add__) all the files in our directory as this is simpler than selecting to track some and not others. \n",
    "\n",
    "\n"
   ]
  },
  {
   "cell_type": "markdown",
   "metadata": {
    "slideshow": {
     "slide_type": "slide"
    }
   },
   "source": [
    "When files have been __added__ but not yet __commited__, we say they have been *staged*. \n",
    "\n",
    "<img src=\"img/git_simple_workflow.png\" alt=\"Drawing\" style=\"width: 500px;\"/>\n",
    "\n",
    "In the terminal type:\n",
    ">`git add -A`\n",
    "\n",
    "to take a snapshot of the changes to all (`-A`) the files in your local directory.\n",
    "<br>These changes are now \"staged\". \n",
    "\n",
    "\n"
   ]
  },
  {
   "cell_type": "markdown",
   "metadata": {
    "slideshow": {
     "slide_type": "slide"
    }
   },
   "source": [
    "Now type:\n",
    ">`git commit -m \"A short message explaining your changes\"`\n",
    "\n",
    "This saves the changes with a message (`-m`) you can refer to to remind you what you changed. \n",
    "<br>\n",
    "\n",
    "To avoid losing any changes, these commands (`add` and `commit`) are usually executed in immediate succession."
   ]
  },
  {
   "cell_type": "markdown",
   "metadata": {
    "slideshow": {
     "slide_type": "slide"
    }
   },
   "source": [
    "To see the commit you just made type:\n",
    ">`git log`\n",
    "\n",
    "You will see the message you wrote and a long number.\n",
    "\n",
    "We can return to this point in the your work at any time by referencing this number. \n",
    "\n"
   ]
  },
  {
   "cell_type": "markdown",
   "metadata": {
    "slideshow": {
     "slide_type": "slide"
    }
   },
   "source": [
    "Type:\n",
    ">`q`\n",
    "\n",
    "to exit the commit log."
   ]
  },
  {
   "cell_type": "markdown",
   "metadata": {
    "slideshow": {
     "slide_type": "slide"
    }
   },
   "source": [
    "## Updating your Online GitHub Repository  \n",
    "\n",
    "We have updated the Git repository held on the computer.\n",
    "\n",
    "The last thing we need to do is to update your online repository. \n",
    "\n",
    "We do this using the `push` command.\n",
    "\n",
    "<img src=\"img/git-local-remote-workflow-cropped.png\" alt=\"Drawing\" style=\"width: 500px;\"/>"
   ]
  },
  {
   "cell_type": "markdown",
   "metadata": {
    "slideshow": {
     "slide_type": "slide"
    }
   },
   "source": [
    "You used the `push` command when you originally uploaded the textbook to your repository.\n",
    "\n",
    "Enter exactly the same code into the terminal:\n",
    "\n",
    "Type:\n",
    "\n",
    "    git push -u origin master\n",
    "    \n",
    "Enter your GitHub login details when prompted.  \n"
   ]
  },
  {
   "cell_type": "markdown",
   "metadata": {
    "slideshow": {
     "slide_type": "slide"
    }
   },
   "source": [
    "Go to your online GitHub repository in the web browser and open the file 0_Introduction.\n",
    "\n",
    "Scroll down to where you made the change. \n",
    "\n",
    "Hint: look for this marker\n",
    "\n",
    "<img src=\"img/change.jpg\" alt=\"Drawing\" style=\"width: 100px;\"/>"
   ]
  },
  {
   "cell_type": "markdown",
   "metadata": {
    "slideshow": {
     "slide_type": "slide"
    }
   },
   "source": [
    "## Installing Software for Home Use \n",
    "\n",
    "It is highly recommended that you download and install the software we will use in class:\n",
    "- Jupyter notebook (anaconda)\n",
    "- Git\n",
    "\n",
    "You will need to use this software to complete homework assigments and prepare for the exam. \n",
    "\n",
    "Both are free to download and install.\n",
    "\n",
    "\n"
   ]
  },
  {
   "cell_type": "markdown",
   "metadata": {
    "slideshow": {
     "slide_type": "slide"
    }
   },
   "source": [
    "Anaconda (which includes Jupyter notebook) can be downloaded from: https://www.anaconda.com/download/\n",
    "><br>Python 3.6 version and Python 2.7 version are available.\n",
    "><br>Choose Python 3.6 version\n",
    "\n",
    "Git can be downloaded from: https://github.com/git-for-windows/git/releases/tag/v2.14.1.windows.1\n",
    ">Choose Git-2.14.1-64-bit.exe if you have a 64 bit operating system.\n",
    "><br> Choose Git-2.14.1-32-bit.exe if you have a 32 bit operating system.\n",
    "\n",
    "An easy to follow download wizard will launch for each piece of software. \n"
   ]
  },
  {
   "cell_type": "markdown",
   "metadata": {
    "slideshow": {
     "slide_type": "slide"
    }
   },
   "source": [
    "## Installing Git for On-Campus Use\n",
    "\n",
    "Git is only available in the computer lab (Room North wing 21, Academic Center Bldg., Yoshida-South Campus).\n",
    "\n",
    "To use Git on a Kyoto University computer outside of the computer lab you need install Git in your local user area:\n",
    "\n",
    "Download the Git program from here:\n",
    "\n",
    "https://github.com/git-for-windows/git/releases/tag/v2.14.1.windows.1\n",
    "\n",
    "The version you need is: \n",
    "\n",
    "PortableGit-2.14.1-32-bit.7z.exe"
   ]
  },
  {
   "cell_type": "markdown",
   "metadata": {
    "slideshow": {
     "slide_type": "subslide"
    }
   },
   "source": [
    "When prompted, choose to __run the file__ 実行(R).\n",
    "\n",
    "<img src=\"img/GitHubInstallRun.png\" alt=\"Drawing\" style=\"width: 500px;\"/>\n",
    "\n",
    "\n",
    "\n",
    "\n",
    "\n",
    "\n",
    "\n"
   ]
  },
  {
   "cell_type": "markdown",
   "metadata": {
    "slideshow": {
     "slide_type": "subslide"
    }
   },
   "source": [
    "When prompted, change the location to save the file to:\n",
    "\n",
    "M:￥Documents￥PortableGit \n",
    "\n",
    "<img src=\"img/GitLocation.png\" alt=\"Drawing\" style=\"width: 400px;\"/>"
   ]
  },
  {
   "cell_type": "markdown",
   "metadata": {
    "slideshow": {
     "slide_type": "subslide"
    }
   },
   "source": [
    "Press OK\n",
    "\n",
    "The download may take some time. "
   ]
  },
  {
   "cell_type": "markdown",
   "metadata": {
    "slideshow": {
     "slide_type": "subslide"
    }
   },
   "source": [
    "Once the download has completed...\n",
    "\n",
    "To open the terminal:\n",
    " - press \"win key\" + \"R\"\n",
    " - type: __cmd__\n",
    " - press enter"
   ]
  },
  {
   "cell_type": "markdown",
   "metadata": {
    "slideshow": {
     "slide_type": "subslide"
    }
   },
   "source": [
    "In the terminal type: \n",
    "\n",
    ">`M:`\n",
    "\n",
    "...and press enter, to switch to the M drive.\n"
   ]
  },
  {
   "cell_type": "markdown",
   "metadata": {
    "slideshow": {
     "slide_type": "subslide"
    }
   },
   "source": [
    "You should see the command prompt change.  \n",
    "\n",
    "\n",
    "<img src=\"img/KUterminalMdrive.png\" alt=\"Drawing\" style=\"width: 700px;\"/>"
   ]
  },
  {
   "cell_type": "markdown",
   "metadata": {
    "slideshow": {
     "slide_type": "subslide"
    }
   },
   "source": [
    "To navigate to documents type:\n",
    "\n",
    ">`cd Documents`\n",
    "\n",
    "cd stands for \"change directory\"."
   ]
  },
  {
   "cell_type": "markdown",
   "metadata": {
    "slideshow": {
     "slide_type": "subslide"
    }
   },
   "source": [
    "You should now see a  folder called PortableGit in the contents list of __Documents__ folder. "
   ]
  },
  {
   "cell_type": "markdown",
   "metadata": {
    "slideshow": {
     "slide_type": "subslide"
    }
   },
   "source": [
    "Type:\n",
    ">cd PortableGit \n",
    "\n",
    "to move into your PortableGit folder.\n",
    "\n",
    "To check git has installed type:\n",
    "\n",
    ">`git-bash.exe`\n",
    "\n",
    "A new terminal window will open. "
   ]
  },
  {
   "cell_type": "markdown",
   "metadata": {
    "slideshow": {
     "slide_type": "subslide"
    }
   },
   "source": [
    "In this window type:\n",
    "\n",
    ">`git --version`\n",
    "\n",
    "If Git has installed, the version of the program will be dipolayed. You should see something like this:\n",
    "\n",
    "<img src=\"img/git-version.gif\" alt=\"Drawing\" style=\"width: 500px;\"/>\n",
    "\n",
    "Close the window."
   ]
  },
  {
   "cell_type": "markdown",
   "metadata": {
    "collapsed": true,
    "slideshow": {
     "slide_type": "subslide"
    }
   },
   "source": [
    "The final thing we need to do is to tell the computer where to look for the Git program. \n",
    "\n",
    "Move one step up from the Git folder. In the original terminal window, type:\n",
    "\n",
    "> `cd ..`"
   ]
  },
  {
   "cell_type": "markdown",
   "metadata": {
    "slideshow": {
     "slide_type": "subslide"
    }
   },
   "source": [
    "Now enter the following in the terminal:\n",
    "\n",
    "> PATH=M:¥Documents¥PortableGit¥bin;%PATH%\n",
    "\n",
    "(you may need to have your keyboard set to JP to achieve this)\n",
    "\n",
    "<img src=\"img/windows_change_lang.png\" alt=\"Drawing\" style=\"width: 400px;\"/>\n",
    "\n",
    "You can type this or __copy and paste__ it from the README section on the github page we looked at earlier.\n",
    "\n",
    "<img src=\"img/readme_.png\" alt=\"Drawing\" style=\"width: 500px;\"/>"
   ]
  },
  {
   "cell_type": "markdown",
   "metadata": {
    "slideshow": {
     "slide_type": "subslide"
    }
   },
   "source": [
    "__Whenever to use Git on a Kyoto University computer outside of the computer lab (Room North wing 21, Academic Center Bldg., Yoshida-South Campus), you must first open a  terminal and type the line of code above to tell the computer where to look for the Git program.__ "
   ]
  },
  {
   "cell_type": "markdown",
   "metadata": {
    "slideshow": {
     "slide_type": "subslide"
    }
   },
   "source": [
    "The program Git has its own terminal commands.\n",
    "\n",
    "Each one starts with the word `git`\n",
    "\n",
    "You can check git is working by typing:\n",
    "\n",
    ">`git status`\n",
    "\n",
    "You should see something like this:\n",
    "\n",
    "<img src=\"img/git-version.gif\" alt=\"Drawing\" style=\"width: 500px;\"/>"
   ]
  },
  {
   "cell_type": "markdown",
   "metadata": {
    "slideshow": {
     "slide_type": "slide"
    }
   },
   "source": [
    "# Summary \n",
    "\n",
    "\n",
    " - Course structure:\n",
    "  - Part 1: Fundamentals of programming (~10 weeks)\n",
    "  - Part 2: Applications of programming (~4 weeks).\n",
    "  - Version Control and Testing (throughout)\n",
    " - Assessment: \n",
    "  - 50% course work (mostly in-class)\n",
    "  - 50% exam\n",
    " - New Software:\n",
    "  - Git\n",
    "  - GitHub\n",
    "  - Jupyter notebook"
   ]
  },
  {
   "cell_type": "markdown",
   "metadata": {
    "slideshow": {
     "slide_type": "slide"
    }
   },
   "source": [
    "# Homework \n",
    "\n",
    "Download and install Jupyter notebook and Git on your personal computer.\n",
    "\n",
    "Send me an email with a link to your online GitHub repository:\n",
    "\n",
    "philamore.hemma.5s@kyoto-u.ac.jp\n"
   ]
  },
  {
   "cell_type": "markdown",
   "metadata": {
    "slideshow": {
     "slide_type": "slide"
    }
   },
   "source": [
    "# Next Seminar\n",
    "\n",
    "If possible, please bring your personal computer (on which you have installed Jupyter notebook and Git) to class.\n",
    "\n",
    "We are going to complete an excercise: __setting up a local repository on your personal computer.__\n",
    "\n",
    "If you cannot bring your personal computer with you, you can practise using a laptop provided in class, but you wil need to repeat the steps at home in your own time. \n",
    "\n",
    "\n"
   ]
  },
  {
   "cell_type": "code",
   "execution_count": null,
   "metadata": {
    "collapsed": true
   },
   "outputs": [],
   "source": []
  }
 ],
 "metadata": {
  "anaconda-cloud": {},
  "kernelspec": {
   "display_name": "env",
   "language": "python",
   "name": "env"
  },
  "language_info": {
   "codemirror_mode": {
    "name": "ipython",
    "version": 3
   },
   "file_extension": ".py",
   "mimetype": "text/x-python",
   "name": "python",
   "nbconvert_exporter": "python",
   "pygments_lexer": "ipython3",
   "version": "3.5.3"
  }
 },
 "nbformat": 4,
 "nbformat_minor": 2
}
